{
  "nbformat": 4,
  "nbformat_minor": 0,
  "metadata": {
    "colab": {
      "provenance": [],
      "collapsed_sections": []
    },
    "kernelspec": {
      "name": "python3",
      "display_name": "Python 3"
    },
    "language_info": {
      "name": "python"
    }
  },
  "cells": [
    {
      "cell_type": "markdown",
      "source": [
        "# Sales Predictions"
      ],
      "metadata": {
        "id": "S3vYEK4LHniz"
      }
    },
    {
      "cell_type": "code",
      "source": [],
      "metadata": {
        "id": "KCyVd1roHvJo"
      },
      "execution_count": null,
      "outputs": []
    }
  ]
}